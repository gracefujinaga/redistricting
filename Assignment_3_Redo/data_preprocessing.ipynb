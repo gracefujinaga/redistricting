{
 "cells": [
  {
   "cell_type": "code",
   "execution_count": 2,
   "metadata": {},
   "outputs": [],
   "source": [
    "import pandas as pd\n",
    "\n",
    "import math\n",
    "from math import pi, pow, sin, cos, asin, sqrt, floor\n",
    "from scipy import stats\n",
    "import numpy as np\n"
   ]
  },
  {
   "cell_type": "code",
   "execution_count": 11,
   "metadata": {},
   "outputs": [],
   "source": [
    "df = pd.read_csv('/Users/gracefujinaga/Documents/Northwestern/MSDS_460/redistricting/Assignment_3_Redo/Data/pop_data.csv')\n",
    "\n",
    "df= df[['pop2020', 'name']]\n",
    "\n",
    "df.to_csv('/Users/gracefujinaga/Documents/Northwestern/MSDS_460/redistricting/Assignment_3_Redo/Data/pop_data_2020.csv', index=False)"
   ]
  },
  {
   "cell_type": "code",
   "execution_count": 108,
   "metadata": {},
   "outputs": [
    {
     "name": "stdout",
     "output_type": "stream",
     "text": [
      "Adams County: ['Brown County', 'Hancock County', 'Pike County', 'Schuyler County']\n",
      "Alexander County: ['Pulaski County', 'Union County']\n",
      "Bond County: ['Clinton County', 'Fayette County', 'Madison County', 'Montgomery County']\n",
      "Boone County: ['DeKalb County', 'McHenry County', 'Ogle County', 'Winnebago County']\n",
      "Brown County: ['Adams County', 'Cass County', 'Morgan County', 'Pike County', 'Schuyler County']\n",
      "Bureau County: ['Henry County', 'LaSalle County', 'Lee County', 'Marshall County', 'Putnam County', 'Stark County', 'Whiteside County']\n",
      "Calhoun County: ['Greene County', 'Jersey County', 'Pike County']\n",
      "Carroll County: ['Jo Daviess County', 'Ogle County', 'Stephenson County', 'Whiteside County']\n",
      "Cass County: ['Brown County', 'Mason County', 'Menard County', 'Morgan County', 'Sangamon County', 'Schuyler County']\n",
      "Champaign County: ['Douglas County', 'Edgar County', 'Ford County', 'McLean County', 'Piatt County', 'Vermilion County']\n",
      "Christian County: ['Macon County', 'Montgomery County', 'Sangamon County', 'Shelby County']\n",
      "Clark County: ['Coles County', 'Crawford County', 'Cumberland County', 'Edgar County', 'Jasper County']\n",
      "Clay County: ['Effingham County', 'Fayette County', 'Jasper County', 'Marion County', 'Richland County', 'Wayne County']\n",
      "Clinton County: ['Bond County', 'Fayette County', 'Madison County', 'Marion County', 'St. Clair County', 'Washington County']\n",
      "Coles County: ['Clark County', 'Cumberland County', 'Douglas County', 'Edgar County', 'Moultrie County', 'Shelby County']\n",
      "Cook County: ['DuPage County', 'Kane County', 'Lake County', 'McHenry County', 'Will County']\n",
      "Crawford County: ['Clark County', 'Jasper County', 'Lawrence County', 'Richland County']\n",
      "Cumberland County: ['Clark County', 'Coles County', 'Effingham County', 'Jasper County', 'Shelby County']\n",
      "DeKalb County: ['Boone County', 'Kane County', 'Kendall County', 'LaSalle County', 'Lee County', 'McHenry County', 'Ogle County', 'Winnebago County']\n",
      "De Witt County: ['Logan County', 'McLean County', 'Macon County', 'Piatt County']\n",
      "Douglas County: ['Champaign County', 'Coles County', 'Edgar County', 'Moultrie County', 'Piatt County', 'Vermilion County']\n",
      "DuPage County: ['Cook County', 'Kane County', 'Kendall County', 'Will County']\n",
      "Edgar County: ['Champaign County', 'Clark County', 'Coles County', 'Douglas County', 'Vermilion County']\n",
      "Edwards County: ['Richland County', 'Wabash County', 'Wayne County', 'White County']\n",
      "Effingham County: ['Clay County', 'Cumberland County', 'Fayette County', 'Jasper County', 'Shelby County']\n",
      "Fayette County: ['Bond County', 'Clay County', 'Clinton County', 'Effingham County', 'Marion County', 'Montgomery County', 'Shelby County']\n",
      "Ford County: ['Champaign County', 'Iroquois County', 'Kankakee County', 'Livingston County', 'McLean County', 'Vermilion County']\n",
      "Franklin County: ['Hamilton County', 'Jackson County', 'Jefferson County', 'Perry County', 'Saline County', 'Williamson County']\n",
      "Fulton County: ['Knox County', 'McDonough County', 'Mason County', 'Peoria County', 'Schuyler County', 'Tazewell County', 'Warren County']\n",
      "Gallatin County: ['Hamilton County', 'Hardin County', 'Saline County', 'White County']\n",
      "Greene County: ['Calhoun County', 'Jersey County', 'Macoupin County', 'Morgan County', 'Pike County', 'Scott County']\n",
      "Grundy County: ['Kankakee County', 'Kendall County', 'LaSalle County', 'Livingston County', 'Will County']\n",
      "Hamilton County: ['Franklin County', 'Gallatin County', 'Jefferson County', 'Saline County', 'Wayne County', 'White County']\n",
      "Hancock County: ['Adams County', 'Henderson County', 'McDonough County', 'Schuyler County']\n",
      "Hardin County: ['Gallatin County', 'Pope County', 'Saline County']\n",
      "Henderson County: ['Hancock County', 'McDonough County', 'Mercer County', 'Warren County']\n",
      "Henry County: ['Bureau County', 'Knox County', 'Mercer County', 'Rock Island County', 'Stark County', 'Whiteside County']\n",
      "Iroquois County: ['Ford County', 'Kankakee County', 'Vermilion County']\n",
      "Jackson County: ['Franklin County', 'Perry County', 'Randolph County', 'Union County', 'Williamson County']\n",
      "Jasper County: ['Clark County', 'Clay County', 'Crawford County', 'Cumberland County', 'Effingham County', 'Richland County']\n",
      "Jefferson County: ['Franklin County', 'Hamilton County', 'Marion County', 'Perry County', 'Washington County', 'Wayne County']\n",
      "Jersey County: ['Calhoun County', 'Greene County', 'Macoupin County', 'Madison County']\n",
      "Jo Daviess County: ['Carroll County', 'Stephenson County']\n",
      "Johnson County: ['Massac County', 'Pope County', 'Pulaski County', 'Saline County', 'Union County', 'Williamson County']\n",
      "Kane County: ['Cook County', 'DeKalb County', 'DuPage County', 'Kendall County', 'McHenry County']\n",
      "Kankakee County: ['Ford County', 'Grundy County', 'Iroquois County', 'Livingston County', 'Will County']\n",
      "Kendall County: ['DeKalb County', 'DuPage County', 'Grundy County', 'Kane County', 'LaSalle County', 'Will County']\n",
      "Knox County: ['Fulton County', 'Henry County', 'Mercer County', 'Peoria County', 'Stark County', 'Warren County']\n",
      "Lake County: ['Cook County', 'McHenry County']\n",
      "LaSalle County: ['Bureau County', 'DeKalb County', 'Grundy County', 'Kendall County', 'Lee County', 'Livingston County', 'Marshall County', 'Putnam County', 'Woodford County']\n",
      "Lawrence County: ['Crawford County', 'Richland County', 'Wabash County']\n",
      "Lee County: ['Bureau County', 'DeKalb County', 'LaSalle County', 'Ogle County', 'Whiteside County']\n",
      "Livingston County: ['Ford County', 'Grundy County', 'Kankakee County', 'LaSalle County', 'McLean County', 'Woodford County']\n",
      "Logan County: ['De Witt County', 'McLean County', 'Macon County', 'Mason County', 'Menard County', 'Sangamon County', 'Tazewell County']\n",
      "McDonough County: ['Fulton County', 'Hancock County', 'Henderson County', 'Schuyler County', 'Warren County']\n",
      "McHenry County: ['Boone County', 'Cook County', 'DeKalb County', 'Kane County', 'Lake County']\n",
      "McLean County: ['Champaign County', 'De Witt County', 'Ford County', 'Livingston County', 'Logan County', 'Piatt County', 'Tazewell County', 'Woodford County']\n",
      "Macon County: ['Christian County', 'De Witt County', 'Logan County', 'Moultrie County', 'Piatt County', 'Sangamon County', 'Shelby County']\n",
      "Macoupin County: ['Greene County', 'Jersey County', 'Madison County', 'Montgomery County', 'Morgan County', 'Sangamon County']\n",
      "Madison County: ['Bond County', 'Clinton County', 'Jersey County', 'Macoupin County', 'Montgomery County', 'St. Clair County']\n",
      "Marion County: ['Clay County', 'Clinton County', 'Fayette County', 'Jefferson County', 'Washington County', 'Wayne County']\n",
      "Marshall County: ['Bureau County', 'LaSalle County', 'Peoria County', 'Putnam County', 'Stark County', 'Woodford County']\n",
      "Mason County: ['Cass County', 'Fulton County', 'Logan County', 'Menard County', 'Schuyler County', 'Tazewell County']\n",
      "Massac County: ['Johnson County', 'Pope County', 'Pulaski County']\n",
      "Menard County: ['Cass County', 'Logan County', 'Mason County', 'Sangamon County']\n",
      "Mercer County: ['Henderson County', 'Henry County', 'Knox County', 'Rock Island County', 'Warren County']\n",
      "Monroe County: ['Randolph County', 'St. Clair County']\n",
      "Montgomery County: ['Bond County', 'Christian County', 'Fayette County', 'Macoupin County', 'Madison County', 'Sangamon County', 'Shelby County']\n",
      "Morgan County: ['Brown County', 'Cass County', 'Greene County', 'Macoupin County', 'Pike County', 'Sangamon County', 'Scott County']\n",
      "Moultrie County: ['Coles County', 'Douglas County', 'Macon County', 'Piatt County', 'Shelby County']\n",
      "Ogle County: ['Boone County', 'Carroll County', 'DeKalb County', 'Lee County', 'Stephenson County', 'Whiteside County', 'Winnebago County']\n",
      "Peoria County: ['Fulton County', 'Knox County', 'Marshall County', 'Stark County', 'Tazewell County', 'Woodford County']\n",
      "Perry County: ['Franklin County', 'Jackson County', 'Jefferson County', 'Randolph County', 'Washington County']\n",
      "Piatt County: ['Champaign County', 'De Witt County', 'Douglas County', 'McLean County', 'Macon County', 'Moultrie County']\n",
      "Pike County: ['Adams County', 'Brown County', 'Calhoun County', 'Greene County', 'Morgan County', 'Scott County']\n",
      "Pope County: ['Hardin County', 'Johnson County', 'Massac County', 'Saline County', 'Williamson County']\n",
      "Pulaski County: ['Alexander County', 'Johnson County', 'Massac County', 'Union County']\n",
      "Putnam County: ['Bureau County', 'LaSalle County', 'Marshall County']\n",
      "Randolph County: ['Jackson County', 'Monroe County', 'Perry County', 'St. Clair County', 'Washington County']\n",
      "Richland County: ['Clay County', 'Crawford County', 'Edwards County', 'Jasper County', 'Lawrence County', 'Wabash County', 'Wayne County']\n",
      "Rock Island County: ['Henry County', 'Mercer County', 'Whiteside County']\n",
      "St. Clair County: ['Clinton County', 'Madison County', 'Monroe County', 'Randolph County', 'Washington County']\n",
      "Saline County: ['Franklin County', 'Gallatin County', 'Hamilton County', 'Hardin County', 'Johnson County', 'Pope County', 'Williamson County']\n",
      "Sangamon County: ['Cass County', 'Christian County', 'Logan County', 'Macon County', 'Macoupin County', 'Menard County', 'Montgomery County', 'Morgan County']\n",
      "Schuyler County: ['Adams County', 'Brown County', 'Cass County', 'Fulton County', 'Hancock County', 'McDonough County', 'Mason County']\n",
      "Scott County: ['Greene County', 'Morgan County', 'Pike County']\n",
      "Shelby County: ['Christian County', 'Coles County', 'Cumberland County', 'Effingham County', 'Fayette County', 'Macon County', 'Montgomery County', 'Moultrie County']\n",
      "Stark County: ['Bureau County', 'Henry County', 'Knox County', 'Marshall County', 'Peoria County']\n",
      "Stephenson County: ['Carroll County', 'Jo Daviess County', 'Ogle County', 'Winnebago County']\n",
      "Tazewell County: ['Fulton County', 'Logan County', 'McLean County', 'Mason County', 'Peoria County', 'Woodford County']\n",
      "Union County: ['Alexander County', 'Jackson County', 'Johnson County', 'Pulaski County', 'Williamson County']\n",
      "Vermilion County: ['Champaign County', 'Douglas County', 'Edgar County', 'Ford County', 'Iroquois County']\n",
      "Wabash County: ['Edwards County', 'Lawrence County', 'Richland County', 'White County']\n",
      "Warren County: ['Fulton County', 'Henderson County', 'Knox County', 'McDonough County', 'Mercer County']\n",
      "Washington County: ['Clinton County', 'Jefferson County', 'Marion County', 'Perry County', 'Randolph County', 'St. Clair County']\n",
      "Wayne County: ['Clay County', 'Edwards County', 'Hamilton County', 'Jefferson County', 'Marion County', 'Richland County', 'White County']\n",
      "White County: ['Edwards County', 'Gallatin County', 'Hamilton County', 'Wabash County', 'Wayne County']\n",
      "Whiteside County: ['Bureau County', 'Carroll County', 'Henry County', 'Lee County', 'Ogle County', 'Rock Island County']\n",
      "Will County: ['Cook County', 'DuPage County', 'Grundy County', 'Kankakee County', 'Kendall County']\n",
      "Williamson County: ['Franklin County', 'Jackson County', 'Johnson County', 'Pope County', 'Saline County', 'Union County']\n",
      "Winnebago County: ['Boone County', 'DeKalb County', 'Ogle County', 'Stephenson County']\n",
      "Woodford County: ['LaSalle County', 'Livingston County', 'McLean County', 'Marshall County', 'Peoria County', 'Tazewell County']\n"
     ]
    }
   ],
   "source": [
    "def parse_illinois_counties_to_adjacency_list(file_path):\n",
    "    adjacency_list = {}\n",
    "    current_county = None\n",
    "    \n",
    "    with open(file_path, 'r') as file:\n",
    "        for line in file:\n",
    "            # Remove leading/trailing whitespace and split by tab\n",
    "            parts = line.strip().split(\"\\t\")\n",
    "            \n",
    "            if len(parts) >= 2 and \"IL\" in line and line.startswith('\"'):\n",
    "                # Main county is the first part\n",
    "                county_name = parts[0].strip('\"').replace(\", IL\", \"\")\n",
    "                current_county = county_name\n",
    "                \n",
    "                # Initialize the adjacency list for the current county\n",
    "                if county_name not in adjacency_list:\n",
    "                    adjacency_list[county_name] = []\n",
    "                \n",
    "                # Loop through the rest of the parts (neighbor counties)\n",
    "                \n",
    "                neighbor_county = parts[2].strip('\"').replace(\", IL\", \"\")\n",
    "                if neighbor_county != current_county:\n",
    "                    adjacency_list[county_name].append(neighbor_county)\n",
    "\n",
    "            elif current_county and \"IL\" in line:\n",
    "                # Only add neighboring counties in Illinois and remove \", IL\"\n",
    "                neighbor_county = line.strip().split(\"\\t\")[0].strip('\"').replace(\", IL\", \"\")\n",
    "                # Add the neighbor only if it's not the same as the current county\n",
    "                if neighbor_county != current_county:\n",
    "                    adjacency_list[current_county].append(neighbor_county)\n",
    "    \n",
    "    return adjacency_list\n",
    "\n",
    "# Parse the adjacency data file\n",
    "adj_list = parse_illinois_counties_to_adjacency_list('/Users/gracefujinaga/Documents/Northwestern/MSDS_460/redistricting/Assignment_3_Redo/Data/adjacency_data.txt')\n",
    "\n",
    "# Optionally print out the adjacency list for debugging\n",
    "for county, neighbors in adj_list.items():\n",
    "    print(f\"{county}: {neighbors}\")\n"
   ]
  },
  {
   "cell_type": "code",
   "execution_count": 57,
   "metadata": {},
   "outputs": [
    {
     "name": "stdout",
     "output_type": "stream",
     "text": [
      "102\n"
     ]
    }
   ],
   "source": [
    "print(len(adj_list))"
   ]
  },
  {
   "cell_type": "code",
   "execution_count": 37,
   "metadata": {},
   "outputs": [],
   "source": [
    "for county in ['Cook County', 'Lake County', 'DuPage County']:\n",
    "    adj_list.pop(county)"
   ]
  },
  {
   "cell_type": "code",
   "execution_count": 50,
   "metadata": {},
   "outputs": [
    {
     "name": "stdout",
     "output_type": "stream",
     "text": [
      "Bureau County and Marshall County are adjacent.\n",
      "Bureau County and Putnam County are adjacent.\n",
      "Bureau County and Will County are NOT adjacent.\n",
      "Marshall County and Putnam County are adjacent.\n",
      "Marshall County and Will County are NOT adjacent.\n",
      "Putnam County and Will County are NOT adjacent.\n"
     ]
    }
   ],
   "source": [
    "\n",
    "def check_adjacency(counties_to_test, adj_list):\n",
    "    # Iterate over each pair of counties in the list\n",
    "    for i, county1 in enumerate(counties_to_test):\n",
    "        for county2 in counties_to_test[i+1:]:  # Check each pair only once\n",
    "            # Check if county2 is in the adjacency list of county1 or vice versa\n",
    "            if county2 in adj_list.get(county1, []):\n",
    "                print(f\"{county1} and {county2} are adjacent.\")\n",
    "            elif county1 in adj_list.get(county2, []):\n",
    "                print(f\"{county1} and {county2} are adjacent.\")\n",
    "            else:\n",
    "                print(f\"{county1} and {county2} are NOT adjacent.\")\n",
    "\n",
    "# List of counties to test adjacency\n",
    "counties_to_test = [\"Bureau County\", \"Marshall County\", \"Putnam County\", \"Will County\"]\n",
    "\n",
    "\n",
    "# Call the function with your adjacency list\n",
    "check_adjacency(counties_to_test, adj_list)\n"
   ]
  },
  {
   "cell_type": "code",
   "execution_count": 77,
   "metadata": {},
   "outputs": [
    {
     "name": "stdout",
     "output_type": "stream",
     "text": [
      "Bureau County\n",
      "['Henry County', 'LaSalle County', 'Lee County', 'Marshall County', 'Putnam County', 'Stark County', 'Whiteside County']\n",
      "Marshall County\n",
      "['LaSalle County', 'Peoria County', 'Putnam County', 'Stark County', 'Woodford County']\n",
      "Putnam County\n",
      "['LaSalle County', 'Marshall County']\n",
      "Will County\n",
      "['DuPage County', 'Grundy County', 'Kankakee County', 'Kendall County']\n"
     ]
    }
   ],
   "source": [
    "for county in counties_to_test: \n",
    "    print(county)\n",
    "    print(adj_list.get(county))\n",
    "    "
   ]
  },
  {
   "cell_type": "code",
   "execution_count": 78,
   "metadata": {},
   "outputs": [
    {
     "name": "stdout",
     "output_type": "stream",
     "text": [
      "Bureau County and Marshall County are adjacent.\n",
      "Bureau County and Putnam County are adjacent.\n",
      "Bureau County and Will County are NOT adjacent.\n",
      "Marshall County and Putnam County are adjacent.\n",
      "Marshall County and Will County are NOT adjacent.\n",
      "Putnam County and Will County are NOT adjacent.\n"
     ]
    }
   ],
   "source": [
    "counties_str = \"Bureau County, Marshall County, Putnam County, Will County\"\n",
    "\n",
    "\n",
    "counties = counties_str.split(\", \")\n",
    "\n",
    "\n",
    "check_adjacency(counties, adj_list)"
   ]
  },
  {
   "cell_type": "code",
   "execution_count": 123,
   "metadata": {},
   "outputs": [
    {
     "name": "stdout",
     "output_type": "stream",
     "text": [
      "{'Bond County': ['Clinton County', 'Montgomery County'], 'Champaign County': ['Ford County'], 'Christian County': ['Macon County', 'Montgomery County'], 'Clinton County': ['Bond County', 'Washington County'], 'Coles County': ['Cumberland County'], 'Cumberland County': ['Coles County'], 'Ford County': ['Champaign County', 'Livingston County'], 'Johnson County': ['Union County'], 'LaSalle County': ['Lee County', 'Livingston County', 'Putnam County'], 'Lee County': ['LaSalle County'], 'Livingston County': ['Ford County', 'LaSalle County'], 'Macon County': ['Christian County'], 'Montgomery County': ['Bond County', 'Christian County'], 'Perry County': ['Washington County'], 'Putnam County': ['LaSalle County'], 'Union County': ['Johnson County'], 'Washington County': ['Clinton County', 'Perry County']}\n"
     ]
    }
   ],
   "source": [
    "counties_str = \"Bond County, Champaign County, Christian County, Clinton County, Coles County, Cumberland County, Ford County, Johnson County, LaSalle County, Lee County, Livingston County, Macon County, Montgomery County, Perry County, Putnam County, Union County, Washington County\"\n",
    "\n",
    "\n",
    "counties = counties_str.split(\", \")\n",
    "\n",
    "def filter_adjacency_list(adj_list, filter_keys):\n",
    "    # Create a new dictionary to store filtered adjacency list\n",
    "    filtered_adj_list = {}\n",
    "    \n",
    "    # Loop through the adjacency list\n",
    "    for county, neighbors in adj_list.items():\n",
    "        # Check if the county is in the filter_keys list\n",
    "        if county in filter_keys:\n",
    "            # Keep the county and its neighbors\n",
    "            # Filter neighbors to only include those also in the filter_keys list\n",
    "            filtered_neighbors = [neighbor for neighbor in neighbors if neighbor in filter_keys]\n",
    "            filtered_adj_list[county] = filtered_neighbors\n",
    "    \n",
    "    return filtered_adj_list\n",
    "\n",
    "# Example usage:\n",
    "# Assuming adj_list is your original adjacency list and you have a list of counties to filter\n",
    "filter_keys = counties  # The counties you want to keep\n",
    "filtered_adj_list = filter_adjacency_list(adj_list, filter_keys)\n",
    "\n",
    "# Print the filtered adjacency list\n",
    "print(filtered_adj_list)\n",
    "\n"
   ]
  },
  {
   "cell_type": "code",
   "execution_count": 124,
   "metadata": {},
   "outputs": [
    {
     "name": "stdout",
     "output_type": "stream",
     "text": [
      "Connected Component 1: Bond County, Clinton County, Washington County, Perry County, Montgomery County, Christian County, Macon County\n",
      "Connected Component 2: Champaign County, Ford County, Livingston County, LaSalle County, Lee County, Putnam County\n",
      "Connected Component 3: Coles County, Cumberland County\n",
      "Connected Component 4: Johnson County, Union County\n"
     ]
    }
   ],
   "source": [
    "# Function to perform DFS and find connected components\n",
    "def find_connected_components(adjacency_list):\n",
    "    visited = set()  # Keeps track of visited counties\n",
    "    connected_components = []  # List to hold all connected components\n",
    "\n",
    "    def dfs(county, component):\n",
    "        \"\"\"Depth First Search to explore connected counties\"\"\"\n",
    "        visited.add(county)  # Mark the current county as visited\n",
    "        component.append(county)  # Add the county to the current component\n",
    "        \n",
    "        # Explore all unvisited neighbors\n",
    "        for neighbor in adjacency_list.get(county, []):\n",
    "            if neighbor not in visited:\n",
    "                dfs(neighbor, component)\n",
    "\n",
    "    # Iterate over all counties in the adjacency list\n",
    "    for county in adjacency_list:\n",
    "        if county not in visited:  # If the county hasn't been visited\n",
    "            component = []  # Start a new connected component\n",
    "            dfs(county, component)  # Explore the connected component\n",
    "            connected_components.append(component)  # Add the component to the list\n",
    "    \n",
    "    return connected_components\n",
    "\n",
    "\n",
    "# Find connected components\n",
    "connected_components = find_connected_components(filtered_adj_list)\n",
    "\n",
    "# Print the connected components\n",
    "for i, component in enumerate(connected_components, 1):\n",
    "    print(f\"Connected Component {i}: {', '.join(component)}\")\n"
   ]
  },
  {
   "cell_type": "code",
   "execution_count": 99,
   "metadata": {},
   "outputs": [
    {
     "data": {
      "text/plain": [
       "['Bond County',\n",
       " 'Fayette County',\n",
       " 'Madison County',\n",
       " 'Marion County',\n",
       " 'St. Clair County',\n",
       " 'Washington County']"
      ]
     },
     "execution_count": 99,
     "metadata": {},
     "output_type": "execute_result"
    }
   ],
   "source": [
    "adj_list.get('Clinton County')"
   ]
  },
  {
   "cell_type": "code",
   "execution_count": null,
   "metadata": {},
   "outputs": [],
   "source": []
  }
 ],
 "metadata": {
  "kernelspec": {
   "display_name": "Python 3",
   "language": "python",
   "name": "python3"
  },
  "language_info": {
   "codemirror_mode": {
    "name": "ipython",
    "version": 3
   },
   "file_extension": ".py",
   "mimetype": "text/x-python",
   "name": "python",
   "nbconvert_exporter": "python",
   "pygments_lexer": "ipython3",
   "version": "3.9.7"
  }
 },
 "nbformat": 4,
 "nbformat_minor": 2
}
